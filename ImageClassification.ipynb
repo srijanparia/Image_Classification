{
  "nbformat": 4,
  "nbformat_minor": 0,
  "metadata": {
    "colab": {
      "provenance": [],
      "authorship_tag": "ABX9TyMa99KX73soI7/waVnIXmd4",
      "include_colab_link": true
    },
    "kernelspec": {
      "name": "python3",
      "display_name": "Python 3"
    },
    "language_info": {
      "name": "python"
    }
  },
  "cells": [
    {
      "cell_type": "markdown",
      "metadata": {
        "id": "view-in-github",
        "colab_type": "text"
      },
      "source": [
        "<a href=\"https://colab.research.google.com/github/srijanparia/Image_Classification/blob/main/ImageClassification.ipynb\" target=\"_parent\"><img src=\"https://colab.research.google.com/assets/colab-badge.svg\" alt=\"Open In Colab\"/></a>"
      ]
    },
    {
      "cell_type": "code",
      "execution_count": 2,
      "metadata": {
        "id": "n-UaehvDgMCM"
      },
      "outputs": [],
      "source": [
        "import pandas as pd\n",
        "import numpy as np\n",
        "import tensorflow as tf\n",
        "from tensorflow import keras\n",
        "import matplotlib.pyplot as plt\n"
      ]
    },
    {
      "cell_type": "code",
      "source": [
        "tf.config.experimental.list_physical_devices()"
      ],
      "metadata": {
        "colab": {
          "base_uri": "https://localhost:8080/"
        },
        "id": "khfFeNNNglQm",
        "outputId": "d9e9d9ab-e59d-4b23-e627-64978cf6e88b"
      },
      "execution_count": 3,
      "outputs": [
        {
          "output_type": "execute_result",
          "data": {
            "text/plain": [
              "[PhysicalDevice(name='/physical_device:CPU:0', device_type='CPU')]"
            ]
          },
          "metadata": {},
          "execution_count": 3
        }
      ]
    },
    {
      "cell_type": "code",
      "source": [
        "(x_train, y_train), (x_test, y_test) = tf.keras.datasets.cifar10.load_data()"
      ],
      "metadata": {
        "id": "adaeAR5Kg-fS"
      },
      "execution_count": 30,
      "outputs": []
    },
    {
      "cell_type": "code",
      "source": [
        "x_train.shape"
      ],
      "metadata": {
        "colab": {
          "base_uri": "https://localhost:8080/"
        },
        "id": "tXqsM3DTixM5",
        "outputId": "b5ad2e46-4a78-4cfe-a214-ac0882fec47a"
      },
      "execution_count": 11,
      "outputs": [
        {
          "output_type": "execute_result",
          "data": {
            "text/plain": [
              "(50000, 32, 32, 3)"
            ]
          },
          "metadata": {},
          "execution_count": 11
        }
      ]
    },
    {
      "cell_type": "code",
      "source": [
        "def plot_sample(index):\n",
        "  plt.figure(figsize =(10,1))\n",
        "  plt.imshow(x_train[index])"
      ],
      "metadata": {
        "id": "g-zaJc7Sq8jY"
      },
      "execution_count": 16,
      "outputs": []
    },
    {
      "cell_type": "code",
      "source": [
        "plot_sample(0)"
      ],
      "metadata": {
        "colab": {
          "base_uri": "https://localhost:8080/",
          "height": 142
        },
        "id": "o4Ywk2UNrQyp",
        "outputId": "66f19310-2742-49b1-d4fc-afb5b0344aa5"
      },
      "execution_count": 18,
      "outputs": [
        {
          "output_type": "display_data",
          "data": {
            "text/plain": [
              "<Figure size 1000x100 with 1 Axes>"
            ],
            "image/png": "[encoded data removed]"
          },
          "metadata": {}
        }
      ]
    },
    {
      "cell_type": "code",
      "source": [
        "classes = [\"airplane\", \"automobile\", \"bird\", \"cat\", \"deer\", \"dog\", \"frog\", \"horse\", \"ship\", \"truck\"]\n"
      ],
      "metadata": {
        "id": "u98PRs3Sr3J4"
      },
      "execution_count": 19,
      "outputs": []
    },
    {
      "cell_type": "code",
      "source": [
        "def res_sample(index):\n",
        "  print(classes[y_train[index][0]])"
      ],
      "metadata": {
        "id": "Xho0cM19r41B"
      },
      "execution_count": 26,
      "outputs": []
    },
    {
      "cell_type": "code",
      "source": [
        "plot_sample(75)\n",
        "res_sample(75)"
      ],
      "metadata": {
        "colab": {
          "base_uri": "https://localhost:8080/",
          "height": 159
        },
        "id": "vF_AqF4ysP2q",
        "outputId": "09e20014-3936-41ae-c456-a311051f6d70"
      },
      "execution_count": 27,
      "outputs": [
        {
          "output_type": "stream",
          "name": "stdout",
          "text": [
            "automobile\n"
          ]
        },
        {
          "output_type": "display_data",
          "data": {
            "text/plain": [
              "<Figure size 1000x100 with 1 Axes>"
            ],
            "image/png": "[encoded data removed]"
          },
          "metadata": {}
        }
      ]
    },
    {
      "cell_type": "code",
      "source": [
        "res_sample(75)"
      ],
      "metadata": {
        "colab": {
          "base_uri": "https://localhost:8080/"
        },
        "id": "qZVwQqAYsYds",
        "outputId": "032f8dce-6f07-4f1a-ddb0-24015be5bd86"
      },
      "execution_count": 28,
      "outputs": [
        {
          "output_type": "stream",
          "name": "stdout",
          "text": [
            "automobile\n"
          ]
        }
      ]
    },
    {
      "cell_type": "code",
      "source": [
        "x_train_scaled = x_train / 255\n",
        "x_test_scaled = x_test / 255"
      ],
      "metadata": {
        "id": "D0Bx0dj7uG9L"
      },
      "execution_count": 31,
      "outputs": []
    },
    {
      "cell_type": "code",
      "source": [
        "y_train_categorical = keras.utils.to_categorical(\n",
        "    y_train, num_classes=10, dtype='float32'\n",
        ")\n",
        "y_test_categorical = keras.utils.to_categorical(\n",
        "    y_test, num_classes=10, dtype='float32'\n",
        ")"
      ],
      "metadata": {
        "id": "B5o0fUlAug1E"
      },
      "execution_count": 33,
      "outputs": []
    },
    {
      "cell_type": "code",
      "source": [
        "y_test_categorical"
      ],
      "metadata": {
        "colab": {
          "base_uri": "https://localhost:8080/"
        },
        "id": "7SCq1LAPvDcn",
        "outputId": "c6c7d049-fa77-4221-8757-826149f1e97b"
      },
      "execution_count": 34,
      "outputs": [
        {
          "output_type": "execute_result",
          "data": {
            "text/plain": [
              "array([[0., 0., 0., ..., 0., 0., 0.],\n",
              "       [0., 0., 0., ..., 0., 1., 0.],\n",
              "       [0., 0., 0., ..., 0., 1., 0.],\n",
              "       ...,\n",
              "       [0., 0., 0., ..., 0., 0., 0.],\n",
              "       [0., 1., 0., ..., 0., 0., 0.],\n",
              "       [0., 0., 0., ..., 1., 0., 0.]], dtype=float32)"
            ]
          },
          "metadata": {},
          "execution_count": 34
        }
      ]
    },
    {
      "cell_type": "code",
      "source": [
        "model = keras.Sequential([\n",
        "    keras.layers.Flatten(input_shape = (32,32,3)),\n",
        "    keras.layers.Dense(3000,activation = 'relu'),\n",
        "    keras.layers.Dense(1000,activation = 'relu'),\n",
        "    keras.layers.Dense(10,activation = 'sigmoid'),\n",
        "])"
      ],
      "metadata": {
        "id": "Mv3BYRG1vEer"
      },
      "execution_count": 35,
      "outputs": []
    },
    {
      "cell_type": "code",
      "source": [
        "model.compile(\n",
        "    optimizer = 'SGD',\n",
        "    loss = 'categorical_crossentropy',\n",
        "    metrics = ['accuracy']\n",
        ")"
      ],
      "metadata": {
        "id": "oiCjqqp_xFvP"
      },
      "execution_count": 36,
      "outputs": []
    },
    {
      "cell_type": "code",
      "source": [
        "model.fit(x_test_scaled, y_test_categorical, epochs = 50)"
      ],
      "metadata": {
        "colab": {
          "base_uri": "https://localhost:8080/"
        },
        "id": "P8PsT9FOxj6X",
        "outputId": "1c522a80-803d-478f-daf1-ce2894d06daf"
      },
      "execution_count": 39,
      "outputs": [
        {
          "output_type": "stream",
          "name": "stdout",
          "text": [
            "Epoch 1/50\n",
            "313/313 [==============================] - 20s 63ms/step - loss: 0.5089 - accuracy: 0.8431\n",
            "Epoch 2/50\n",
            "313/313 [==============================] - 14s 45ms/step - loss: 0.4947 - accuracy: 0.8546\n",
            "Epoch 3/50\n",
            "313/313 [==============================] - 14s 45ms/step - loss: 0.4797 - accuracy: 0.8556\n",
            "Epoch 4/50\n",
            "313/313 [==============================] - 14s 44ms/step - loss: 0.4527 - accuracy: 0.8677\n",
            "Epoch 5/50\n",
            "313/313 [==============================] - 15s 48ms/step - loss: 0.4451 - accuracy: 0.8724\n",
            "Epoch 6/50\n",
            "313/313 [==============================] - 14s 46ms/step - loss: 0.4271 - accuracy: 0.8793\n",
            "Epoch 7/50\n",
            "313/313 [==============================] - 14s 45ms/step - loss: 0.4047 - accuracy: 0.8830\n",
            "Epoch 8/50\n",
            "313/313 [==============================] - 14s 44ms/step - loss: 0.3819 - accuracy: 0.8914\n",
            "Epoch 9/50\n",
            "313/313 [==============================] - 14s 45ms/step - loss: 0.3748 - accuracy: 0.8937\n",
            "Epoch 10/50\n",
            "313/313 [==============================] - 15s 47ms/step - loss: 0.3731 - accuracy: 0.8959\n",
            "Epoch 11/50\n",
            "313/313 [==============================] - 14s 45ms/step - loss: 0.3543 - accuracy: 0.9014\n",
            "Epoch 12/50\n",
            "313/313 [==============================] - 14s 44ms/step - loss: 0.3253 - accuracy: 0.9164\n",
            "Epoch 13/50\n",
            "313/313 [==============================] - 14s 44ms/step - loss: 0.3237 - accuracy: 0.9115\n",
            "Epoch 14/50\n",
            "313/313 [==============================] - 14s 44ms/step - loss: 0.2999 - accuracy: 0.9221\n",
            "Epoch 15/50\n",
            "313/313 [==============================] - 15s 49ms/step - loss: 0.3530 - accuracy: 0.9104\n",
            "Epoch 16/50\n",
            "313/313 [==============================] - 15s 47ms/step - loss: 0.2904 - accuracy: 0.9268\n",
            "Epoch 17/50\n",
            "313/313 [==============================] - 15s 47ms/step - loss: 0.2625 - accuracy: 0.9355\n",
            "Epoch 18/50\n",
            "313/313 [==============================] - 14s 46ms/step - loss: 0.2681 - accuracy: 0.9340\n",
            "Epoch 19/50\n",
            "313/313 [==============================] - 15s 47ms/step - loss: 0.2386 - accuracy: 0.9401\n",
            "Epoch 20/50\n",
            "313/313 [==============================] - 14s 46ms/step - loss: 0.2413 - accuracy: 0.9429\n",
            "Epoch 21/50\n",
            "313/313 [==============================] - 14s 44ms/step - loss: 0.2208 - accuracy: 0.9465\n",
            "Epoch 22/50\n",
            "313/313 [==============================] - 14s 45ms/step - loss: 0.2071 - accuracy: 0.9535\n",
            "Epoch 23/50\n",
            "313/313 [==============================] - 15s 47ms/step - loss: 0.2126 - accuracy: 0.9499\n",
            "Epoch 24/50\n",
            "313/313 [==============================] - 15s 47ms/step - loss: 0.1999 - accuracy: 0.9554\n",
            "Epoch 25/50\n",
            "313/313 [==============================] - 14s 46ms/step - loss: 0.1855 - accuracy: 0.9586\n",
            "Epoch 26/50\n",
            "313/313 [==============================] - 14s 45ms/step - loss: 0.1828 - accuracy: 0.9600\n",
            "Epoch 27/50\n",
            "313/313 [==============================] - 14s 46ms/step - loss: 0.2005 - accuracy: 0.9551\n",
            "Epoch 28/50\n",
            "313/313 [==============================] - 15s 47ms/step - loss: 0.1590 - accuracy: 0.9652\n",
            "Epoch 29/50\n",
            "313/313 [==============================] - 15s 46ms/step - loss: 0.1582 - accuracy: 0.9657\n",
            "Epoch 30/50\n",
            "313/313 [==============================] - 15s 47ms/step - loss: 0.1317 - accuracy: 0.9765\n",
            "Epoch 31/50\n",
            "313/313 [==============================] - 15s 47ms/step - loss: 0.1299 - accuracy: 0.9761\n",
            "Epoch 32/50\n",
            "313/313 [==============================] - 15s 48ms/step - loss: 0.1406 - accuracy: 0.9706\n",
            "Epoch 33/50\n",
            "313/313 [==============================] - 15s 48ms/step - loss: 0.1220 - accuracy: 0.9756\n",
            "Epoch 34/50\n",
            "313/313 [==============================] - 15s 46ms/step - loss: 0.1569 - accuracy: 0.9691\n",
            "Epoch 35/50\n",
            "313/313 [==============================] - 15s 47ms/step - loss: 0.1376 - accuracy: 0.9730\n",
            "Epoch 36/50\n",
            "313/313 [==============================] - 15s 48ms/step - loss: 0.1399 - accuracy: 0.9719\n",
            "Epoch 37/50\n",
            "313/313 [==============================] - 15s 47ms/step - loss: 0.1043 - accuracy: 0.9826\n",
            "Epoch 38/50\n",
            "313/313 [==============================] - 15s 46ms/step - loss: 0.0914 - accuracy: 0.9870\n",
            "Epoch 39/50\n",
            "313/313 [==============================] - 15s 47ms/step - loss: 0.0890 - accuracy: 0.9857\n",
            "Epoch 40/50\n",
            "313/313 [==============================] - 15s 47ms/step - loss: 0.0821 - accuracy: 0.9876\n",
            "Epoch 41/50\n",
            "313/313 [==============================] - 14s 44ms/step - loss: 0.0789 - accuracy: 0.9896\n",
            "Epoch 42/50\n",
            "313/313 [==============================] - 14s 44ms/step - loss: 0.0744 - accuracy: 0.9893\n",
            "Epoch 43/50\n",
            "313/313 [==============================] - 14s 44ms/step - loss: 0.0720 - accuracy: 0.9912\n",
            "Epoch 44/50\n",
            "313/313 [==============================] - 14s 46ms/step - loss: 0.0754 - accuracy: 0.9883\n",
            "Epoch 45/50\n",
            "313/313 [==============================] - 15s 48ms/step - loss: 0.0724 - accuracy: 0.9902\n",
            "Epoch 46/50\n",
            "313/313 [==============================] - 15s 46ms/step - loss: 0.1117 - accuracy: 0.9805\n",
            "Epoch 47/50\n",
            "313/313 [==============================] - 15s 46ms/step - loss: 0.0627 - accuracy: 0.9919\n",
            "Epoch 48/50\n",
            "313/313 [==============================] - 13s 43ms/step - loss: 0.0589 - accuracy: 0.9924\n",
            "Epoch 49/50\n",
            "313/313 [==============================] - 14s 44ms/step - loss: 0.0737 - accuracy: 0.9884\n",
            "Epoch 50/50\n",
            "313/313 [==============================] - 14s 45ms/step - loss: 0.0461 - accuracy: 0.9959\n"
          ]
        },
        {
          "output_type": "execute_result",
          "data": {
            "text/plain": [
              "<keras.src.callbacks.History at 0x7ec47966b5b0>"
            ]
          },
          "metadata": {},
          "execution_count": 39
        }
      ]
    },
    {
      "cell_type": "code",
      "source": [
        "y_predict = model.predict(x_test_scaled)"
      ],
      "metadata": {
        "colab": {
          "base_uri": "https://localhost:8080/"
        },
        "id": "58i4sivX4wdv",
        "outputId": "3b7ec06c-7017-4c48-b7de-c8e30b2d2f94"
      },
      "execution_count": 41,
      "outputs": [
        {
          "output_type": "stream",
          "name": "stdout",
          "text": [
            "313/313 [==============================] - 5s 16ms/step\n"
          ]
        }
      ]
    },
    {
      "cell_type": "code",
      "source": [
        "classes[np.argmax(y_predict[0])]"
      ],
      "metadata": {
        "colab": {
          "base_uri": "https://localhost:8080/",
          "height": 37
        },
        "id": "MJyFSA7Y6Mw5",
        "outputId": "a38f371e-1122-486d-f4d9-93a458f0249c"
      },
      "execution_count": 45,
      "outputs": [
        {
          "output_type": "execute_result",
          "data": {
            "text/plain": [
              "'cat'"
            ],
            "application/vnd.google.colaboratory.intrinsic+json": {
              "type": "string"
            }
          },
          "metadata": {},
          "execution_count": 45
        }
      ]
    },
    {
      "cell_type": "code",
      "source": [
        "classes[np.argmax(y_test_categorical[0])]"
      ],
      "metadata": {
        "colab": {
          "base_uri": "https://localhost:8080/",
          "height": 37
        },
        "id": "6WmqTO1M6jJT",
        "outputId": "5959502e-87ec-4ac6-bb50-b542d23d24e4"
      },
      "execution_count": 49,
      "outputs": [
        {
          "output_type": "execute_result",
          "data": {
            "text/plain": [
              "'cat'"
            ],
            "application/vnd.google.colaboratory.intrinsic+json": {
              "type": "string"
            }
          },
          "metadata": {},
          "execution_count": 49
        }
      ]
    },
    {
      "cell_type": "code",
      "source": [
        "model.evaluate(x_test_scaled, y_test_categorical)"
      ],
      "metadata": {
        "colab": {
          "base_uri": "https://localhost:8080/"
        },
        "id": "RIOMPMYn7WNv",
        "outputId": "6266f8b9-a53e-4465-b8ee-4325173d84be"
      },
      "execution_count": 50,
      "outputs": [
        {
          "output_type": "stream",
          "name": "stdout",
          "text": [
            "313/313 [==============================] - 5s 16ms/step - loss: 0.1126 - accuracy: 0.9644\n"
          ]
        },
        {
          "output_type": "execute_result",
          "data": {
            "text/plain": [
              "[0.11262884736061096, 0.9643999934196472]"
            ]
          },
          "metadata": {},
          "execution_count": 50
        }
      ]
    },
    {
      "cell_type": "code",
      "source": [
        "y_predicted_labels = [ np.argmax(i) for i in y_predict]\n",
        "y_predicted_labels[:5]"
      ],
      "metadata": {
        "colab": {
          "base_uri": "https://localhost:8080/"
        },
        "id": "AIqJG7e58jks",
        "outputId": "a0fff28f-4018-47af-9dbc-6191f3cfcc3d"
      },
      "execution_count": 51,
      "outputs": [
        {
          "output_type": "execute_result",
          "data": {
            "text/plain": [
              "[3, 8, 8, 0, 6]"
            ]
          },
          "metadata": {},
          "execution_count": 51
        }
      ]
    },
    {
      "cell_type": "code",
      "source": [
        "cm = tf.math.confusion_matrix(labels = y_test, predictions = y_predicted_labels)\n",
        "cm"
      ],
      "metadata": {
        "colab": {
          "base_uri": "https://localhost:8080/"
        },
        "id": "TR4E1WJ0849r",
        "outputId": "3ebc9585-91ac-4ffd-c035-1eb8fff1514b"
      },
      "execution_count": 52,
      "outputs": [
        {
          "output_type": "execute_result",
          "data": {
            "text/plain": [
              "<tf.Tensor: shape=(10, 10), dtype=int32, numpy=\n",
              "array([[1000,    0,    0,    0,    0,    0,    0,    0,    0,    0],\n",
              "       [   0, 1000,    0,    0,    0,    0,    0,    0,    0,    0],\n",
              "       [  70,    0,  929,    0,    1,    0,    0,    0,    0,    0],\n",
              "       [   8,    0,    1,  989,    0,    0,    2,    0,    0,    0],\n",
              "       [  36,    0,    1,    0,  963,    0,    0,    0,    0,    0],\n",
              "       [   7,    0,    2,    0,    1,  990,    0,    0,    0,    0],\n",
              "       [   0,    0,    0,    0,    1,    0,  999,    0,    0,    0],\n",
              "       [   8,    0,    0,    0,    0,    0,    0,  992,    0,    0],\n",
              "       [ 217,    0,    0,    0,    0,    0,    0,    0,  783,    0],\n",
              "       [   2,    0,    0,    0,    0,    0,    0,    0,    0,  998]],\n",
              "      dtype=int32)>"
            ]
          },
          "metadata": {},
          "execution_count": 52
        }
      ]
    },
    {
      "cell_type": "code",
      "source": [
        "import seaborn as sn\n",
        "plt.figure(figsize = (10,7))\n",
        "sn.heatmap(cm, annot=True, fmt='d')\n",
        "plt.xlabel('Predicted')\n",
        "plt.ylabel('Truth')"
      ],
      "metadata": {
        "colab": {
          "base_uri": "https://localhost:8080/",
          "height": 641
        },
        "id": "ZKvmeZHZ7nts",
        "outputId": "25257065-c098-43df-ec65-10017b16c538"
      },
      "execution_count": 53,
      "outputs": [
        {
          "output_type": "execute_result",
          "data": {
            "text/plain": [
              "Text(95.72222222222221, 0.5, 'Truth')"
            ]
          },
          "metadata": {},
          "execution_count": 53
        },
        {
          "output_type": "display_data",
          "data": {
            "text/plain": [
              "<Figure size 1000x700 with 2 Axes>"
            ],
            "image/png": "[encoded data removed]"
          },
          "metadata": {}
        }
      ]
    },
    {
      "cell_type": "code",
      "source": [
        "count = 0\n",
        "for i in range(len(y_predict)):\n",
        "  if y_predicted_labels[i] != y_test[i] and y_test[i] == 8:\n",
        "    print(i)\n",
        "    count += 1\n",
        "\n",
        "print(count)"
      ],
      "metadata": {
        "colab": {
          "base_uri": "https://localhost:8080/"
        },
        "id": "PSzp4PnF9FF7",
        "outputId": "3761ee16-7350-4820-f2ca-69218acdacc7"
      },
      "execution_count": 62,
      "outputs": [
        {
          "output_type": "stream",
          "name": "stdout",
          "text": [
            "54\n",
            "55\n",
            "73\n",
            "80\n",
            "124\n",
            "197\n",
            "202\n",
            "218\n",
            "274\n",
            "306\n",
            "312\n",
            "368\n",
            "385\n",
            "403\n",
            "408\n",
            "482\n",
            "582\n",
            "703\n",
            "712\n",
            "721\n",
            "757\n",
            "806\n",
            "904\n",
            "918\n",
            "992\n",
            "1004\n",
            "1059\n",
            "1111\n",
            "1160\n",
            "1164\n",
            "1205\n",
            "1216\n",
            "1218\n",
            "1223\n",
            "1262\n",
            "1263\n",
            "1279\n",
            "1294\n",
            "1331\n",
            "1447\n",
            "1512\n",
            "1532\n",
            "1557\n",
            "1676\n",
            "1683\n",
            "1691\n",
            "1772\n",
            "1778\n",
            "1809\n",
            "1856\n",
            "1869\n",
            "1874\n",
            "1938\n",
            "1946\n",
            "2014\n",
            "2021\n",
            "2048\n",
            "2118\n",
            "2217\n",
            "2223\n",
            "2227\n",
            "2456\n",
            "2458\n",
            "2533\n",
            "2687\n",
            "2705\n",
            "2790\n",
            "2837\n",
            "2927\n",
            "3078\n",
            "3106\n",
            "3108\n",
            "3138\n",
            "3206\n",
            "3226\n",
            "3270\n",
            "3279\n",
            "3331\n",
            "3403\n",
            "3423\n",
            "3521\n",
            "3537\n",
            "3585\n",
            "3698\n",
            "3718\n",
            "3813\n",
            "3829\n",
            "3842\n",
            "3848\n",
            "3870\n",
            "3912\n",
            "3950\n",
            "3968\n",
            "4024\n",
            "4096\n",
            "4115\n",
            "4125\n",
            "4165\n",
            "4196\n",
            "4198\n",
            "4199\n",
            "4242\n",
            "4256\n",
            "4280\n",
            "4316\n",
            "4317\n",
            "4351\n",
            "4385\n",
            "4428\n",
            "4512\n",
            "4566\n",
            "4585\n",
            "4621\n",
            "4649\n",
            "4720\n",
            "4735\n",
            "4742\n",
            "4870\n",
            "4919\n",
            "4944\n",
            "5034\n",
            "5110\n",
            "5257\n",
            "5325\n",
            "5586\n",
            "5619\n",
            "5672\n",
            "5747\n",
            "5821\n",
            "5946\n",
            "5972\n",
            "5989\n",
            "6211\n",
            "6238\n",
            "6262\n",
            "6285\n",
            "6342\n",
            "6366\n",
            "6376\n",
            "6379\n",
            "6412\n",
            "6424\n",
            "6449\n",
            "6463\n",
            "6594\n",
            "6691\n",
            "6751\n",
            "6831\n",
            "6937\n",
            "6950\n",
            "6987\n",
            "6997\n",
            "7042\n",
            "7060\n",
            "7142\n",
            "7185\n",
            "7303\n",
            "7320\n",
            "7409\n",
            "7414\n",
            "7485\n",
            "7503\n",
            "7655\n",
            "7688\n",
            "7695\n",
            "7832\n",
            "7968\n",
            "7995\n",
            "8018\n",
            "8067\n",
            "8075\n",
            "8117\n",
            "8186\n",
            "8269\n",
            "8287\n",
            "8290\n",
            "8303\n",
            "8377\n",
            "8411\n",
            "8418\n",
            "8515\n",
            "8531\n",
            "8607\n",
            "8676\n",
            "8704\n",
            "8717\n",
            "8826\n",
            "8834\n",
            "8890\n",
            "8913\n",
            "9051\n",
            "9054\n",
            "9105\n",
            "9176\n",
            "9200\n",
            "9206\n",
            "9274\n",
            "9291\n",
            "9306\n",
            "9347\n",
            "9371\n",
            "9389\n",
            "9412\n",
            "9451\n",
            "9490\n",
            "9491\n",
            "9568\n",
            "9617\n",
            "9655\n",
            "9787\n",
            "9806\n",
            "9834\n",
            "9846\n",
            "9864\n",
            "9929\n",
            "9932\n",
            "9963\n",
            "217\n"
          ]
        }
      ]
    },
    {
      "cell_type": "code",
      "source": [
        "def plot_sample(index):\n",
        "  plt.figure(figsize =(10,1))\n",
        "  plt.imshow(x_test[index])"
      ],
      "metadata": {
        "id": "MmpkGDid-VDy"
      },
      "execution_count": 63,
      "outputs": []
    },
    {
      "cell_type": "code",
      "source": [
        "plot_sample(9929)"
      ],
      "metadata": {
        "colab": {
          "base_uri": "https://localhost:8080/",
          "height": 142
        },
        "id": "myPRq7YM-gjA",
        "outputId": "98e43af1-6df2-46c8-f7bf-df8e8e4f454b"
      },
      "execution_count": 66,
      "outputs": [
        {
          "output_type": "display_data",
          "data": {
            "text/plain": [
              "<Figure size 1000x100 with 1 Axes>"
            ],
            "image/png": "[encoded data removed]"
          },
          "metadata": {}
        }
      ]
    },
    {
      "cell_type": "code",
      "source": [
        "y_test[1][0]"
      ],
      "metadata": {
        "colab": {
          "base_uri": "https://localhost:8080/"
        },
        "id": "69bM8Nld9cVc",
        "outputId": "2981e080-f406-4401-868c-6d2ad90aa76a"
      },
      "execution_count": 57,
      "outputs": [
        {
          "output_type": "execute_result",
          "data": {
            "text/plain": [
              "8"
            ]
          },
          "metadata": {},
          "execution_count": 57
        }
      ]
    },
    {
      "cell_type": "code",
      "source": [
        "y_predicted_labels[1]"
      ],
      "metadata": {
        "colab": {
          "base_uri": "https://localhost:8080/"
        },
        "id": "xZ09IQvb9r1I",
        "outputId": "60fb37d0-43f0-42b9-bfb1-d00f61cedf48"
      },
      "execution_count": 58,
      "outputs": [
        {
          "output_type": "execute_result",
          "data": {
            "text/plain": [
              "8"
            ]
          },
          "metadata": {},
          "execution_count": 58
        }
      ]
    }
  ]
}